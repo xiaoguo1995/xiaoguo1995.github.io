{
 "cells": [
  {
   "cell_type": "markdown",
   "metadata": {},
   "source": [
    "# Leaflet cluster map of talk locations\n",
    "\n",
    "Run this from the _talks/ directory, which contains .md files of all your talks. This scrapes the location YAML field from each .md file, geolocates it with geopy/Nominatim, and uses the getorg library to output data, HTML, and Javascript for a standalone cluster map."
   ]
  },
  {
   "cell_type": "code",
   "execution_count": 1,
   "metadata": {
    "collapsed": false
   },
   "outputs": [
    {
     "name": "stdout",
     "output_type": "stream",
     "text": [
      "Requirement already satisfied: getorg in /opt/anaconda3/envs/PyDashBoard/lib/python3.9/site-packages (0.3.1)\n",
      "Requirement already satisfied: geopy in /opt/anaconda3/envs/PyDashBoard/lib/python3.9/site-packages (from getorg) (2.4.1)\n",
      "Requirement already satisfied: pygithub in /opt/anaconda3/envs/PyDashBoard/lib/python3.9/site-packages (from getorg) (2.5.0)\n",
      "Requirement already satisfied: retrying in /opt/anaconda3/envs/PyDashBoard/lib/python3.9/site-packages (from getorg) (1.3.4)\n",
      "Requirement already satisfied: geographiclib<3,>=1.52 in /opt/anaconda3/envs/PyDashBoard/lib/python3.9/site-packages (from geopy->getorg) (2.0)\n",
      "Requirement already satisfied: pynacl>=1.4.0 in /opt/anaconda3/envs/PyDashBoard/lib/python3.9/site-packages (from pygithub->getorg) (1.5.0)\n",
      "Requirement already satisfied: requests>=2.14.0 in /opt/anaconda3/envs/PyDashBoard/lib/python3.9/site-packages (from pygithub->getorg) (2.31.0)\n",
      "Requirement already satisfied: pyjwt>=2.4.0 in /opt/anaconda3/envs/PyDashBoard/lib/python3.9/site-packages (from pyjwt[crypto]>=2.4.0->pygithub->getorg) (2.10.0)\n",
      "Requirement already satisfied: typing-extensions>=4.0.0 in /opt/anaconda3/envs/PyDashBoard/lib/python3.9/site-packages (from pygithub->getorg) (4.10.0)\n",
      "Requirement already satisfied: urllib3>=1.26.0 in /opt/anaconda3/envs/PyDashBoard/lib/python3.9/site-packages (from pygithub->getorg) (2.2.1)\n",
      "Requirement already satisfied: Deprecated in /opt/anaconda3/envs/PyDashBoard/lib/python3.9/site-packages (from pygithub->getorg) (1.2.15)\n",
      "Requirement already satisfied: six>=1.7.0 in /opt/anaconda3/envs/PyDashBoard/lib/python3.9/site-packages (from retrying->getorg) (1.16.0)\n",
      "Requirement already satisfied: cryptography>=3.4.0 in /opt/anaconda3/envs/PyDashBoard/lib/python3.9/site-packages (from pyjwt[crypto]>=2.4.0->pygithub->getorg) (43.0.0)\n",
      "Requirement already satisfied: cffi>=1.4.1 in /opt/anaconda3/envs/PyDashBoard/lib/python3.9/site-packages (from pynacl>=1.4.0->pygithub->getorg) (1.16.0)\n",
      "Requirement already satisfied: charset-normalizer<4,>=2 in /opt/anaconda3/envs/PyDashBoard/lib/python3.9/site-packages (from requests>=2.14.0->pygithub->getorg) (3.3.2)\n",
      "Requirement already satisfied: idna<4,>=2.5 in /opt/anaconda3/envs/PyDashBoard/lib/python3.9/site-packages (from requests>=2.14.0->pygithub->getorg) (3.6)\n",
      "Requirement already satisfied: certifi>=2017.4.17 in /opt/anaconda3/envs/PyDashBoard/lib/python3.9/site-packages (from requests>=2.14.0->pygithub->getorg) (2024.2.2)\n",
      "Requirement already satisfied: wrapt<2,>=1.10 in /opt/anaconda3/envs/PyDashBoard/lib/python3.9/site-packages (from Deprecated->pygithub->getorg) (1.17.0)\n",
      "Requirement already satisfied: pycparser in /opt/anaconda3/envs/PyDashBoard/lib/python3.9/site-packages (from cffi>=1.4.1->pynacl>=1.4.0->pygithub->getorg) (2.21)\n",
      "Iywidgets and ipyleaflet support disabled. You must be in a Jupyter notebook to use this feature.\n",
      "Error raised:\n",
      "No module named 'ipyleaflet'\n",
      "Check that you have enabled ipyleaflet in Jupyter with:\n",
      "    jupyter nbextension enable --py ipyleaflet\n"
     ]
    }
   ],
   "source": [
    "!pip install getorg --upgrade\n",
    "import glob\n",
    "import getorg\n",
    "# from geopy import Nominatim\n",
    "from geopy.geocoders import Nominatim\n"
   ]
  },
  {
   "cell_type": "code",
   "execution_count": 2,
   "metadata": {
    "collapsed": false
   },
   "outputs": [
    {
     "data": {
      "text/plain": [
       "['Guo2022SNOMWorkshop.md',\n",
       " 'Guo2022COMMAD.md',\n",
       " 'Guo2024NFO17.md',\n",
       " 'Guo2024NFO17-Workshop.md',\n",
       " 'Guo2021THzWorkshop.md',\n",
       " 'Guo2024ISUPTW.md',\n",
       " 'Guo2024IRMMWTHz_StudentWorkshop.md',\n",
       " 'Guo2024IRMMWTHz.md']"
      ]
     },
     "execution_count": 2,
     "metadata": {},
     "output_type": "execute_result"
    }
   ],
   "source": [
    "g = glob.glob(\"*.md\")\n",
    "g"
   ]
  },
  {
   "cell_type": "code",
   "execution_count": 3,
   "metadata": {
    "collapsed": true
   },
   "outputs": [],
   "source": [
    "# geocoder = Nominatim()\n",
    "# Set up geolocator with custom user_agent\n",
    "geolocator = Nominatim(user_agent=\"xiaoguo1995_github_map\")\n",
    "location_dict = {}\n",
    "location = \"\"\n",
    "permalink = \"\"\n",
    "title = \"\""
   ]
  },
  {
   "cell_type": "code",
   "execution_count": 4,
   "metadata": {
    "collapsed": false
   },
   "outputs": [
    {
     "name": "stdout",
     "output_type": "stream",
     "text": [
      "File: Guo2022SNOMWorkshop.md\n",
      "Location: Munich, Germany\n",
      "Geocoded Location: München, Bayern, Deutschland\n",
      "\n",
      "File: Guo2022COMMAD.md\n",
      "Location: Adelaide, Australia\n",
      "Geocoded Location: Adelaide, Adelaide City Council, South Australia, Australia\n",
      "\n",
      "File: Guo2024NFO17.md\n",
      "Location: Melbourne, Australia\n",
      "Geocoded Location: Melbourne, City of Melbourne, Victoria, Australia\n",
      "\n",
      "File: Guo2024NFO17-Workshop.md\n",
      "Location: Melbourne, Australia\n",
      "Geocoded Location: Melbourne, City of Melbourne, Victoria, Australia\n",
      "\n",
      "File: Guo2021THzWorkshop.md\n",
      "Location: Sydney, Australia\n",
      "Geocoded Location: Sydney, Council of the City of Sydney, New South Wales, Australia\n",
      "\n",
      "File: Guo2024ISUPTW.md\n",
      "Location: Guangzhou, China\n",
      "Geocoded Location: 广州市, 广东省, 中国\n",
      "\n",
      "File: Guo2024IRMMWTHz_StudentWorkshop.md\n",
      "Location: Perth, Australia\n",
      "Geocoded Location: City of Perth, Western Australia, Australia\n",
      "\n",
      "File: Guo2024IRMMWTHz.md\n",
      "Location: Perth, Australia\n",
      "Geocoded Location: City of Perth, Western Australia, Australia\n",
      "\n"
     ]
    }
   ],
   "source": [
    "# # Example of geocoding a location\n",
    "# location = geolocator.geocode(\"Sydney, Australia\")\n",
    "# if location:\n",
    "#     print(f\"Latitude: {location.latitude}, Longitude: {location.longitude}\")\n",
    "\n",
    "location_dict = {}  # Dictionary to store geocoded locations\n",
    "\n",
    "# Loop through each Markdown file\n",
    "for file in g:\n",
    "    with open(file, 'r') as f:\n",
    "        lines = f.read()\n",
    "        # Check if the 'location:' field exists\n",
    "        if 'location: \"' in lines:\n",
    "            loc_start = lines.find('location: \"') + len('location: \"')\n",
    "            lines_trim = lines[loc_start:]\n",
    "            loc_end = lines_trim.find('\"')\n",
    "            location = lines_trim[:loc_end]\n",
    "\n",
    "            # Geocode the location and handle exceptions\n",
    "            try:\n",
    "                geocoded_location = geolocator.geocode(location)\n",
    "                if geocoded_location:\n",
    "                    location_dict[location] = geocoded_location\n",
    "                    print(f\"File: {file}\")\n",
    "                    print(f\"Location: {location}\")\n",
    "                    print(f\"Geocoded Location: {geocoded_location}\\n\")\n",
    "                else:\n",
    "                    print(f\"File: {file}\")\n",
    "                    print(f\"Location: {location}\")\n",
    "                    print(\"Could not geocode this location.\\n\")\n",
    "            except Exception as e:\n",
    "                print(f\"File: {file}\")\n",
    "                print(f\"Error geocoding {location}: {e}\\n\")\n",
    "\n",
    "# `location_dict` now contains geocoded locations\n",
    "\n",
    "# for file in g:\n",
    "#     with open(file, 'r') as f:\n",
    "#         lines = f.read()\n",
    "#         if lines.find('location: \"') > 1:\n",
    "#             loc_start = lines.find('location: \"') + 11\n",
    "#             lines_trim = lines[loc_start:]\n",
    "#             loc_end = lines_trim.find('\"')\n",
    "#             location = lines_trim[:loc_end]\n",
    "                            \n",
    "           \n",
    "#         location_dict[location] = geocoder.geocode(location)\n",
    "#         print(location, \"\\n\", location_dict[location])\n"
   ]
  },
  {
   "cell_type": "code",
   "execution_count": 5,
   "metadata": {
    "collapsed": false
   },
   "outputs": [
    {
     "data": {
      "text/plain": [
       "'Written map to ../talkmap/'"
      ]
     },
     "execution_count": 5,
     "metadata": {},
     "output_type": "execute_result"
    }
   ],
   "source": [
    "m = getorg.orgmap.create_map_obj()\n",
    "getorg.orgmap.output_html_cluster_map(location_dict, folder_name=\"../talkmap\", hashed_usernames=False)"
   ]
  },
  {
   "cell_type": "code",
   "execution_count": null,
   "metadata": {
    "collapsed": true
   },
   "outputs": [],
   "source": []
  },
  {
   "cell_type": "code",
   "execution_count": null,
   "metadata": {},
   "outputs": [],
   "source": []
  }
 ],
 "metadata": {
  "anaconda-cloud": {},
  "kernelspec": {
   "display_name": "Python 3",
   "language": "python",
   "name": "python3"
  },
  "language_info": {
   "codemirror_mode": {
    "name": "ipython",
    "version": 3
   },
   "file_extension": ".py",
   "mimetype": "text/x-python",
   "name": "python",
   "nbconvert_exporter": "python",
   "pygments_lexer": "ipython3",
   "version": "3.9.18"
  }
 },
 "nbformat": 4,
 "nbformat_minor": 0
}
